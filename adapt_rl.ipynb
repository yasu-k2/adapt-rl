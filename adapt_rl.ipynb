{
  "nbformat": 4,
  "nbformat_minor": 0,
  "metadata": {
    "colab": {
      "name": "adapt-rl.ipynb",
      "provenance": [],
      "private_outputs": true,
      "mount_file_id": "1QpLhV_EhBVu0WkqFewIdtx82dPP8lX7R",
      "authorship_tag": "ABX9TyOxC2PJXwwEO9x/n8P699NL",
      "include_colab_link": true
    },
    "kernelspec": {
      "name": "python3",
      "display_name": "Python 3"
    },
    "accelerator": "GPU"
  },
  "cells": [
    {
      "cell_type": "markdown",
      "metadata": {
        "id": "view-in-github",
        "colab_type": "text"
      },
      "source": [
        "<a href=\"https://colab.research.google.com/github/yasu-k2/adapt-rl/blob/master/adapt_rl.ipynb\" target=\"_parent\"><img src=\"https://colab.research.google.com/assets/colab-badge.svg\" alt=\"Open In Colab\"/></a>"
      ]
    },
    {
      "cell_type": "markdown",
      "metadata": {
        "id": "Dl30mRltMg6p",
        "colab_type": "text"
      },
      "source": [
        "# Adapt RL"
      ]
    },
    {
      "cell_type": "markdown",
      "metadata": {
        "id": "LW-zyfimMuFg",
        "colab_type": "text"
      },
      "source": [
        "## Requirements"
      ]
    },
    {
      "cell_type": "code",
      "metadata": {
        "id": "X2t4T_Y2NwrF",
        "colab_type": "code",
        "colab": {}
      },
      "source": [
        "!sudo apt update\n",
        "!sudo apt install -y xvfb\n",
        "!sudo apt install -y python-opengl\n",
        "!sudo apt install -y libopencv-dev"
      ],
      "execution_count": null,
      "outputs": []
    },
    {
      "cell_type": "code",
      "metadata": {
        "id": "odbwtOWvM-gh",
        "colab_type": "code",
        "colab": {}
      },
      "source": [
        "!pip install matplotlib\n",
        "!pip install tensorflow\n",
        "!pip install torch torchvision\n",
        "!pip install gym\n",
        "!pip install pybullet\n",
        "!pip install ray[rllib]\n",
        "!pip install gym-notebook-wrapper"
      ],
      "execution_count": null,
      "outputs": []
    },
    {
      "cell_type": "code",
      "metadata": {
        "id": "r_etrbDg3MC8",
        "colab_type": "code",
        "colab": {}
      },
      "source": [
        "!git clone https://github.com/ray-project/ray.git\n",
        "!mkdir ./ray/logdir ./ray/tmp"
      ],
      "execution_count": null,
      "outputs": []
    },
    {
      "cell_type": "code",
      "metadata": {
        "id": "kAnMN4QtNzjn",
        "colab_type": "code",
        "colab": {}
      },
      "source": [
        "%cd ./ray"
      ],
      "execution_count": null,
      "outputs": []
    },
    {
      "cell_type": "code",
      "metadata": {
        "id": "4QvzYwPPQAfb",
        "colab_type": "code",
        "colab": {}
      },
      "source": [
        "# fix\n",
        "#!cat -n /usr/local/lib/python3.6/dist-packages/torch/serialization.py\n",
        "!sed -i -e \"486s/None/'cpu'/\" /usr/local/lib/python3.6/dist-packages/torch/serialization.py"
      ],
      "execution_count": null,
      "outputs": []
    },
    {
      "cell_type": "markdown",
      "metadata": {
        "id": "EGUd87gaMnhj",
        "colab_type": "text"
      },
      "source": [
        "## Function Definition"
      ]
    },
    {
      "cell_type": "code",
      "metadata": {
        "id": "FE87NGInPBac",
        "colab_type": "code",
        "colab": {}
      },
      "source": [
        "import matplotlib.pyplot as plt\n",
        "import gym\n",
        "import gnwrapper\n",
        "import ray\n",
        "from ray import tune\n",
        "from ray.tune.registry import register_env\n",
        "from ray.rllib.agents import ppo\n",
        "\n",
        "plt.rcParams[\"animation.embed_limit\"] = 100.0"
      ],
      "execution_count": null,
      "outputs": []
    },
    {
      "cell_type": "code",
      "metadata": {
        "id": "5krX3c8rR656",
        "colab_type": "code",
        "colab": {}
      },
      "source": [
        "class HumanoidBulletEnv_alt(gym.Env):\n",
        "    import pybullet_envs\n",
        "    def __init__(self, env_config):\n",
        "        env = gym.make(\"HumanoidBulletEnv-v0\")\n",
        "        #env = gnwrapper.Monitor(env, directory='./tmp/', force=True, video_callable=lambda ep: True)\n",
        "        env = gnwrapper.LoopAnimation(env)\n",
        "        self.env = env\n",
        "        self.action_space = self.env.action_space\n",
        "        self.observation_space = self.env.observation_space\n",
        "        self.hack = env_config[\"hack\"]\n",
        "    def reset(self):\n",
        "        return self.env.reset()\n",
        "    def step(self, action):\n",
        "        if self.hack:\n",
        "            # Hack 17 DOF\n",
        "            action[10] = 0.0\n",
        "        return self.env.step(action)\n",
        "    def render(self, mode=\"human\"):\n",
        "        return self.env.render(mode)\n",
        "    def display(self):\n",
        "      #return self.env.display(reset=True)\n",
        "      return self.env.display()"
      ],
      "execution_count": null,
      "outputs": []
    },
    {
      "cell_type": "code",
      "metadata": {
        "id": "ZjGbYHILMZha",
        "colab_type": "code",
        "colab": {}
      },
      "source": [
        "def ppo_humanoid_train(config, stop, log_dir='./logdir'):\n",
        "    results = tune.run(\"PPO\", config=config, stop=stop, local_dir=log_dir, checkpoint_at_end=True, checkpoint_freq=100)\n",
        "    checkpoints = results.get_trial_checkpoints_paths(trial=results.get_best_trial(\"episode_reward_mean\"), metric=\"episode_reward_mean\")\n",
        "    print(checkpoints)\n",
        "    return checkpoints"
      ],
      "execution_count": null,
      "outputs": []
    },
    {
      "cell_type": "code",
      "metadata": {
        "id": "ugAOWHtoOfbR",
        "colab_type": "code",
        "colab": {}
      },
      "source": [
        "def ppo_humanoid_train_altenv(config, stop, chkdir, log_dir='./logdir'):\n",
        "    results = tune.run(ppo.PPOTrainer, config=config, stop=stop, local_dir=log_dir, checkpoint_at_end=True, checkpoint_freq=10, restore=chk_dir)\n",
        "    checkpoints = results.get_trial_checkpoints_paths(trial=results.get_best_trial(\"episode_reward_mean\"), metric=\"episode_reward_mean\")\n",
        "    print(checkpoints)\n",
        "    return checkpoints"
      ],
      "execution_count": null,
      "outputs": []
    },
    {
      "cell_type": "code",
      "metadata": {
        "id": "tbe9APvsfn68",
        "colab_type": "code",
        "colab": {}
      },
      "source": [
        "def ppo_humanoid_test(config, chk_dir):\n",
        "    agent = ppo.PPOTrainer(config=config, env=\"HumanoidBulletEnv_alt\")\n",
        "    agent.restore(chk_dir)\n",
        "    env_config = config[\"env_config\"]\n",
        "    env = HumanoidBulletEnv_alt(env_config)\n",
        "    episode_reward = 0.0\n",
        "    done = False\n",
        "    env.render() #\n",
        "    obs = env.reset()\n",
        "    while not done:\n",
        "        env.render() #\n",
        "        action = agent.compute_action(obs)\n",
        "        obs, reward, done, info = env.step(action)\n",
        "        episode_reward += reward\n",
        "    print(\"Episode Reward:\", episode_reward)\n",
        "    env.display()\n",
        "    env.close()\n",
        "    del agent\n",
        "    del env"
      ],
      "execution_count": null,
      "outputs": []
    },
    {
      "cell_type": "markdown",
      "metadata": {
        "id": "tULmnDNVOye3",
        "colab_type": "text"
      },
      "source": [
        "## Exectution"
      ]
    },
    {
      "cell_type": "code",
      "metadata": {
        "id": "TwckjC4kmBbl",
        "colab_type": "code",
        "colab": {}
      },
      "source": [
        "ray.init()\n",
        "register_env(\"HumanoidBulletEnv_alt\", lambda config: HumanoidBulletEnv_alt(config))"
      ],
      "execution_count": null,
      "outputs": []
    },
    {
      "cell_type": "code",
      "metadata": {
        "id": "xtI28XGhSl8E",
        "colab_type": "code",
        "colab": {}
      },
      "source": [
        "env_config = {\"hack\": False}\n",
        "# config: reduced num_workers, num_gpus\n",
        "config = {\n",
        "    \"env\": \"HumanoidBulletEnv_alt\",\n",
        "    \"env_config\": env_config,\n",
        "    \"model\": {\n",
        "        \"free_log_std\": True,\n",
        "    },\n",
        "    \"lr\": .0001,\n",
        "    \"framework\": \"torch\",\n",
        "    \"gamma\": 0.995,\n",
        "    \"lambda\": 0.95,\n",
        "    \"clip_param\": 0.2,\n",
        "    \"kl_coeff\": 1.0,\n",
        "    \"num_sgd_iter\": 20,\n",
        "    \"sgd_minibatch_size\": 32768,\n",
        "    \"horizon\": 5000,\n",
        "    \"train_batch_size\": 320000,\n",
        "    \"num_workers\": 1,\n",
        "    \"num_gpus\": 1,\n",
        "    \"batch_mode\": \"complete_episodes\",\n",
        "    \"observation_filter\": \"MeanStdFilter\",\n",
        "}\n",
        "# stop: reduced episode_reward_mean\n",
        "stop = {\n",
        "    \"episode_reward_mean\": 1200,\n",
        "}"
      ],
      "execution_count": null,
      "outputs": []
    },
    {
      "cell_type": "code",
      "metadata": {
        "id": "sm4KjsQDQevZ",
        "colab_type": "code",
        "colab": {}
      },
      "source": [
        "chks = ppo_humanoid_train(config, stop)"
      ],
      "execution_count": null,
      "outputs": []
    },
    {
      "cell_type": "code",
      "metadata": {
        "id": "MeRZ7NY9WAFq",
        "colab_type": "code",
        "colab": {}
      },
      "source": [
        "#!rm ./tmp/*\n",
        "chk_dir = '/content/ray/logdir/PPO/PPO_HumanoidBulletEnv_alt_ID/checkpoint_No/checkpoint-No'\n",
        "ppo_humanoid_test(config, chk_dir)"
      ],
      "execution_count": null,
      "outputs": []
    },
    {
      "cell_type": "code",
      "metadata": {
        "id": "HwJRQ7KKQk0X",
        "colab_type": "code",
        "colab": {}
      },
      "source": [
        "config_altenv = config\n",
        "config_altenv[\"env_config\"][\"hack\"] = True\n",
        "stop_altenv = stop"
      ],
      "execution_count": null,
      "outputs": []
    },
    {
      "cell_type": "code",
      "metadata": {
        "id": "vnRzc3WEWGno",
        "colab_type": "code",
        "colab": {}
      },
      "source": [
        "chks_altenv = ppo_humanoid_train_altenv(config_altenv, stop_altenv, chk_dir)"
      ],
      "execution_count": null,
      "outputs": []
    },
    {
      "cell_type": "code",
      "metadata": {
        "id": "YYhywKBLWJwY",
        "colab_type": "code",
        "colab": {}
      },
      "source": [
        "#!rm ./tmp/*\n",
        "chk_dir_altenv = '/content/ray/logdir/PPO/PPO_HumanoidBulletEnv_alt_ID/checkpoint_No/checkpoint-No'\n",
        "ppo_humanoid_test(config_altenv, chk_dir_altenv)"
      ],
      "execution_count": null,
      "outputs": []
    },
    {
      "cell_type": "code",
      "metadata": {
        "id": "JGRqRzYST3gX",
        "colab_type": "code",
        "colab": {}
      },
      "source": [
        "ray.shutdown()"
      ],
      "execution_count": null,
      "outputs": []
    },
    {
      "cell_type": "code",
      "metadata": {
        "id": "vLo9T6BUgJ3_",
        "colab_type": "code",
        "colab": {}
      },
      "source": [
        ""
      ],
      "execution_count": null,
      "outputs": []
    }
  ]
}