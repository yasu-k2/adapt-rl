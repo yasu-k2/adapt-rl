{
  "nbformat": 4,
  "nbformat_minor": 0,
  "metadata": {
    "colab": {
      "name": "adapt_rl_w_control.ipynb",
      "provenance": [],
      "private_outputs": true,
      "collapsed_sections": [],
      "toc_visible": true,
      "include_colab_link": true
    },
    "kernelspec": {
      "name": "python3",
      "display_name": "Python 3"
    },
    "accelerator": "GPU",
    "nteract": {
      "version": "0.25.0"
    }
  },
  "cells": [
    {
      "cell_type": "markdown",
      "metadata": {
        "id": "view-in-github",
        "colab_type": "text"
      },
      "source": [
        "<a href=\"https://colab.research.google.com/github/yasu-k2/adapt-rl/blob/master/adapt_rl.ipynb\" target=\"_parent\"><img src=\"https://colab.research.google.com/assets/colab-badge.svg\" alt=\"Open In Colab\"/></a>"
      ]
    },
    {
      "cell_type": "markdown",
      "metadata": {
        "id": "Dl30mRltMg6p",
        "colab_type": "text"
      },
      "source": [
        "# Adapt RL"
      ]
    },
    {
      "cell_type": "markdown",
      "metadata": {
        "id": "LW-zyfimMuFg",
        "colab_type": "text"
      },
      "source": [
        "## Requirements"
      ]
    },
    {
      "cell_type": "code",
      "metadata": {
        "id": "X2t4T_Y2NwrF",
        "colab_type": "code",
        "colab": {}
      },
      "source": [
        "!sudo apt update\n",
        "!sudo apt install -y xvfb\n",
        "!sudo apt install -y python-opengl\n",
        "!sudo apt install -y libopencv-dev"
      ],
      "execution_count": null,
      "outputs": []
    },
    {
      "cell_type": "code",
      "metadata": {
        "id": "odbwtOWvM-gh",
        "colab_type": "code",
        "colab": {}
      },
      "source": [
        "!pip install matplotlib\n",
        "!pip install tensorflow\n",
        "!pip install torch torchvision\n",
        "!pip install gym\n",
        "!pip install pybullet\n",
        "!pip install ray[rllib]"
      ],
      "execution_count": null,
      "outputs": []
    },
    {
      "cell_type": "code",
      "metadata": {
        "id": "4QvzYwPPQAfb",
        "colab_type": "code",
        "colab": {}
      },
      "source": [
        "# fix\n",
        "#!cat -n /usr/local/lib/python3.6/dist-packages/torch/serialization.py\n",
        "!sed -i -e \"486s/None/'cpu'/\" /usr/local/lib/python3.6/dist-packages/torch/serialization.py"
      ],
      "execution_count": null,
      "outputs": []
    },
    {
      "cell_type": "code",
      "metadata": {
        "id": "r_etrbDg3MC8",
        "colab_type": "code",
        "colab": {}
      },
      "source": [
        "!git clone https://github.com/ray-project/ray.git\n",
        "!mkdir ./ray/logdir ./ray/tmp"
      ],
      "execution_count": null,
      "outputs": []
    },
    {
      "cell_type": "code",
      "metadata": {
        "id": "kAnMN4QtNzjn",
        "colab_type": "code",
        "colab": {}
      },
      "source": [
        "%cd ./ray"
      ],
      "execution_count": null,
      "outputs": []
    },
    {
      "cell_type": "code",
      "metadata": {
        "id": "6LpMbz6te0V6",
        "colab_type": "code",
        "colab": {}
      },
      "source": [
        "!nvidia-smi"
      ],
      "execution_count": null,
      "outputs": []
    },
    {
      "cell_type": "markdown",
      "metadata": {
        "id": "EGUd87gaMnhj",
        "colab_type": "text"
      },
      "source": [
        "## Function Definition"
      ]
    },
    {
      "cell_type": "code",
      "metadata": {
        "id": "FE87NGInPBac",
        "colab_type": "code",
        "colab": {}
      },
      "source": [
        "import copy\n",
        "\n",
        "import matplotlib.pyplot as plt\n",
        "from IPython.display import HTML\n",
        "import moviepy.editor as mpy\n",
        "from base64 import b64encode\n",
        "\n",
        "import gym\n",
        "import ray\n",
        "from ray import tune\n",
        "from ray.tune.registry import register_env\n",
        "from ray.rllib.agents import ppo\n",
        "\n",
        "plt.rcParams[\"animation.embed_limit\"] = 200.0"
      ],
      "execution_count": null,
      "outputs": []
    },
    {
      "cell_type": "code",
      "metadata": {
        "id": "jurswSrefMeE",
        "colab_type": "code",
        "colab": {}
      },
      "source": [
        "def save_video(frames, path):\n",
        "    clip = mpy.ImageSequenceClip(frames, fps=60)\n",
        "    clip.write_videofile(path, fps=60)\n",
        "\n",
        "def play_mp4(path):\n",
        "    mp4 = open(path, 'rb').read()\n",
        "    url = \"data:video/mp4;base64,\" + b64encode(mp4).decode()\n",
        "    return HTML(\"\"\"<video width=400 controls><source src=\"%s\" type=\"video/mp4\"></video>\"\"\" % url)"
      ],
      "execution_count": null,
      "outputs": []
    },
    {
      "cell_type": "code",
      "metadata": {
        "id": "5krX3c8rR656",
        "colab_type": "code",
        "colab": {}
      },
      "source": [
        "class HumanoidBulletEnv_alt(gym.Env):\n",
        "    import pybullet_envs\n",
        "    def __init__(self, env_config):\n",
        "        env = gym.make(\"HumanoidBulletEnv-v0\")\n",
        "        self.env = env\n",
        "        self.action_space = self.env.action_space\n",
        "        self.observation_space = self.env.observation_space\n",
        "        self.hack = env_config[\"hack\"]\n",
        "    def reset(self):\n",
        "        return self.env.reset()\n",
        "    def step(self, action):\n",
        "        if self.hack:\n",
        "            # Hack 17 DOF\n",
        "            action[10] = 0.0\n",
        "        return self.env.step(action)\n",
        "    def render(self, mode=\"rgb_array\"):\n",
        "        return self.env.render(mode)\n",
        "    def close(self):\n",
        "        self.env.close()"
      ],
      "execution_count": null,
      "outputs": []
    },
    {
      "cell_type": "code",
      "metadata": {
        "id": "ZjGbYHILMZha",
        "colab_type": "code",
        "colab": {}
      },
      "source": [
        "def ppo_humanoid_train(config, stop, chk_dir=None, log_dir='./logdir'):\n",
        "    if chk_dir is None:\n",
        "        results = tune.run(\"PPO\", config=config, stop=stop, local_dir=log_dir, checkpoint_at_end=True, checkpoint_freq=100)\n",
        "    else:\n",
        "        results = tune.run(ppo.PPOTrainer, config=config, stop=stop, local_dir=log_dir, checkpoint_at_end=True, checkpoint_freq=10, restore=chk_dir)\n",
        "    checkpoints = results.get_trial_checkpoints_paths(trial=results.get_best_trial(\"episode_reward_mean\"), metric=\"episode_reward_mean\")\n",
        "    print(checkpoints)\n",
        "    return checkpoints"
      ],
      "execution_count": null,
      "outputs": []
    },
    {
      "cell_type": "code",
      "metadata": {
        "id": "tbe9APvsfn68",
        "colab_type": "code",
        "colab": {}
      },
      "source": [
        "def ppo_humanoid_test(config, chk_dir):\n",
        "    agent = ppo.PPOTrainer(config=config, env=\"HumanoidBulletEnv_alt\")\n",
        "    agent.restore(chk_dir)\n",
        "    env_config = config[\"env_config\"]\n",
        "    env = HumanoidBulletEnv_alt(env_config)\n",
        "    episode_reward = 0.0\n",
        "    done = False\n",
        "    frames = []\n",
        "    obs = env.reset()\n",
        "    while not done:\n",
        "        frame = env.render()\n",
        "        frames.append(frame)\n",
        "        action = agent.compute_action(obs)\n",
        "        obs, reward, done, info = env.step(action)\n",
        "        episode_reward += reward\n",
        "    print(\"Episode Reward:\", episode_reward)\n",
        "    save_video(frames, \"./tmp/sample.mp4\")\n",
        "    env.close()"
      ],
      "execution_count": null,
      "outputs": []
    },
    {
      "cell_type": "markdown",
      "metadata": {
        "id": "tULmnDNVOye3",
        "colab_type": "text"
      },
      "source": [
        "## Configuration"
      ]
    },
    {
      "cell_type": "code",
      "metadata": {
        "id": "xtI28XGhSl8E",
        "colab_type": "code",
        "colab": {}
      },
      "source": [
        "env_config = {\"hack\": False}\n",
        "\n",
        "config = {\n",
        "    \"env\": \"HumanoidBulletEnv_alt\",\n",
        "    \"env_config\": env_config,\n",
        "    \"model\": {\n",
        "        \"free_log_std\": True,\n",
        "    },\n",
        "    \"lr\": .0001,\n",
        "    \"framework\": \"torch\",\n",
        "    \"gamma\": 0.995,\n",
        "    \"lambda\": 0.95,\n",
        "    \"clip_param\": 0.2,\n",
        "    \"kl_coeff\": 1.0,\n",
        "    \"num_sgd_iter\": 20,\n",
        "    \"sgd_minibatch_size\": 32768,\n",
        "    \"horizon\": 5000,\n",
        "    \"train_batch_size\": 320000,\n",
        "    \"num_workers\": 16,\n",
        "    \"num_gpus\": 4,\n",
        "    \"batch_mode\": \"complete_episodes\",\n",
        "    \"observation_filter\": \"MeanStdFilter\",\n",
        "}\n",
        "\n",
        "stop = {\n",
        "    \"episode_reward_mean\": 2000,\n",
        "}"
      ],
      "execution_count": null,
      "outputs": []
    },
    {
      "cell_type": "code",
      "metadata": {
        "jupyter": {
          "source_hidden": false,
          "outputs_hidden": false
        },
        "nteract": {
          "transient": {
            "deleting": false
          }
        },
        "id": "C2WudW0FGDPf",
        "colab_type": "code",
        "colab": {}
      },
      "source": [
        "# reduced num_workers, num_gpus\n",
        "config[\"num_workers\"] = 1\n",
        "config[\"num_gpus\"] = 1\n",
        "\n",
        "# reduced episode_reward_mean\n",
        "stop[\"episode_reward_mean\"] = 1000"
      ],
      "execution_count": null,
      "outputs": []
    },
    {
      "cell_type": "code",
      "metadata": {
        "id": "HwJRQ7KKQk0X",
        "colab_type": "code",
        "colab": {}
      },
      "source": [
        "config_altenv = copy.deepcopy(config)\n",
        "config_altenv[\"env_config\"][\"hack\"] = True\n",
        "stop_altenv = copy.deepcopy(stop)"
      ],
      "execution_count": null,
      "outputs": []
    },
    {
      "cell_type": "code",
      "metadata": {
        "jupyter": {
          "source_hidden": false,
          "outputs_hidden": false
        },
        "nteract": {
          "transient": {
            "deleting": false
          }
        },
        "id": "LvOk4UEXGDQj",
        "colab_type": "code",
        "colab": {}
      },
      "source": [
        "config_control = copy.deepcopy(config)\n",
        "config_control[\"env_config\"][\"hack\"] = True\n",
        "stop_control = copy.deepcopy(stop)"
      ],
      "execution_count": null,
      "outputs": []
    },
    {
      "cell_type": "markdown",
      "metadata": {
        "id": "ZNbkyUmsTDlb",
        "colab_type": "text"
      },
      "source": [
        "## Execution"
      ]
    },
    {
      "cell_type": "code",
      "metadata": {
        "id": "TwckjC4kmBbl",
        "colab_type": "code",
        "colab": {}
      },
      "source": [
        "ray.init()\n",
        "register_env(\"HumanoidBulletEnv_alt\", lambda config: HumanoidBulletEnv_alt(config))"
      ],
      "execution_count": null,
      "outputs": []
    },
    {
      "cell_type": "code",
      "metadata": {
        "id": "sm4KjsQDQevZ",
        "colab_type": "code",
        "colab": {}
      },
      "source": [
        "chks = ppo_humanoid_train(config, stop)"
      ],
      "execution_count": null,
      "outputs": []
    },
    {
      "cell_type": "code",
      "metadata": {
        "id": "MeRZ7NY9WAFq",
        "colab_type": "code",
        "colab": {}
      },
      "source": [
        "#chk_dir = '/content/ray/logdir/PPO/PPO_HumanoidBulletEnv_alt_ID/checkpoint_No/checkpoint-No'\n",
        "chk_dir = ''\n",
        "ppo_humanoid_test(config, chk_dir)\n",
        "play_mp4(\"./tmp/sample.mp4\")"
      ],
      "execution_count": null,
      "outputs": []
    },
    {
      "cell_type": "code",
      "metadata": {
        "id": "vnRzc3WEWGno",
        "colab_type": "code",
        "colab": {}
      },
      "source": [
        "chks_altenv = ppo_humanoid_train(config_altenv, stop_altenv, chk_dir=chk_dir)"
      ],
      "execution_count": null,
      "outputs": []
    },
    {
      "cell_type": "code",
      "metadata": {
        "id": "YYhywKBLWJwY",
        "colab_type": "code",
        "colab": {}
      },
      "source": [
        "#chk_dir_altenv = '/content/ray/logdir/PPO/PPO_HumanoidBulletEnv_alt_ID/checkpoint_No/checkpoint-No'\n",
        "chk_dir_altenv = ''\n",
        "ppo_humanoid_test(config_altenv, chk_dir_altenv)\n",
        "play_mp4(\"./tmp/sample.mp4\")"
      ],
      "execution_count": null,
      "outputs": []
    },
    {
      "cell_type": "code",
      "metadata": {
        "jupyter": {
          "source_hidden": false,
          "outputs_hidden": false
        },
        "nteract": {
          "transient": {
            "deleting": false
          }
        },
        "id": "5fQ0qwdfGDQy",
        "colab_type": "code",
        "colab": {}
      },
      "source": [
        "chks_control = ppo_humanoid_train(config_control, stop_control)"
      ],
      "execution_count": null,
      "outputs": []
    },
    {
      "cell_type": "code",
      "metadata": {
        "jupyter": {
          "source_hidden": false,
          "outputs_hidden": false
        },
        "nteract": {
          "transient": {
            "deleting": false
          }
        },
        "id": "V06fV50BGDQ9",
        "colab_type": "code",
        "colab": {}
      },
      "source": [
        "#chk_dir_control = '/content/ray/logdir/PPO/PPO_HumanoidBulletEnv_alt_ID/checkpoint_No/checkpoint-No'\n",
        "chk_dir_control = ''\n",
        "ppo_humanoid_test(config_control, chk_dir_control)\n",
        "play_mp4(\"./tmp/sample.mp4\")"
      ],
      "execution_count": null,
      "outputs": []
    },
    {
      "cell_type": "code",
      "metadata": {
        "id": "JGRqRzYST3gX",
        "colab_type": "code",
        "colab": {}
      },
      "source": [
        "ray.shutdown()"
      ],
      "execution_count": null,
      "outputs": []
    }
  ]
}